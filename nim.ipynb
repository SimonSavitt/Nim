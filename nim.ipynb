{
 "cells": [
  {
   "cell_type": "markdown",
   "metadata": {},
   "source": [
    "# Nim with a Quantum Computer\n",
    "\n",
    "[Nim](https://en.wikipedia.org/wiki/Nim) is a simple game for which we can implement simple AIs. For that reason it was used as the basis of some of the first examples of computer games: such as 1940's [Nimatron](https://en.wikipedia.org/wiki/Nimatron) and 1951's [Nimrod](https://en.wikipedia.org/wiki/Nimrod_(computer)). There was even [Dr Nim](https://en.wikipedia.org/wiki/Dr._Nim): a simple mechanical version made in the 1960s.\n",
    "\n",
    "Now it's time to do it with quantum computing. In this notebook we'll implement a Nim AI using just a single qubit. The game can be played here, or on Twitter.\n",
    "\n",
    "First we import the things we'll need: `numpy`, various things from `qiskit` and some `twitter_tools` made specifically for this project (which can be found in the file [twitter_tools.py](twitter_tools.py))."
   ]
  },
  {
   "cell_type": "code",
   "execution_count": null,
   "metadata": {},
   "outputs": [],
   "source": [
    "import numpy as np\n",
    "from twitter_tools import *\n",
    "\n",
    "from qiskit import QuantumCircuit, execute, IBMQ, Aer\n",
    "from qiskit.providers.ibmq import least_busy"
   ]
  },
  {
   "cell_type": "markdown",
   "metadata": {},
   "source": [
    "Next is to set up how the game will be played. With `twitter=False`, all inputs and outputs will be restricted to this notebook. With `simulator=True`, a local simulator will be used. But with\n",
    "```\n",
    "twitter = True\n",
    "simulator = False\n",
    "```\n",
    "the inputs and outputs really will be done via Twitter, and real quantum hardware will be used to run the opponent AI."
   ]
  },
  {
   "cell_type": "code",
   "execution_count": null,
   "metadata": {},
   "outputs": [],
   "source": [
    "twitter = False\n",
    "simulator = True\n",
    "\n",
    "if simulator:\n",
    "    backend = Aer.get_backend('qasm_simulator')\n",
    "else:\n",
    "    IBMQ.load_account()\n",
    "    provider = IBMQ.providers()[0]\n",
    "    backend = least_busy(provider.backends()[1::])\n",
    "    \n",
    "print('Playing against '+backend.name())"
   ]
  },
  {
   "cell_type": "markdown",
   "metadata": {},
   "source": [
    "Now for the actual game!\n",
    "\n",
    "There are initially 12 marbles. Players take it in turns to remove 1, 2 or 3 marbles. Whoever takes the last one wins.\n",
    "\n",
    "There is a strategy by which the second player can always win. They simply need to ensure that each pair of turns results in four marbles being taken. With this tactic, after 6 moves (3 by each player) the game will be down to just four marbles.\n",
    "\n",
    "At this point, it will be the turn of Player 1. However many marbles they take, it will be possible for Player 2 to take the rest. This mean taking the last marble, and so winning the game!\n",
    "\n",
    "To implement an AI for Player 2, we mostly just need to be able to determine when the number of marbles is a multiple of 4. For a quantum computer, we can do this using one qubit (as long as we can repeat the process for many shots. If you are not familiar with single qubit gates, [this guide](https://nbviewer.jupyter.org/github/quantumjim/blog/blob/master/Quantum_Procedural_Generation/2_SingleQubit.ipynb) should give you all you need for what follows.\n",
    "\n",
    "For our quantum AI we'll use just one gate: the `rx` gate for an angle of $\\pi/4$. To see how, let's look at the effects of apply different numbers of this gate before measurement (the point at which a `0` or `1` is extracted).\n",
    "\n",
    "* No `rx` gates: The qubit is in the initial $\\left|0\\right\\rangle$ state, and so the measurement outputs `0`.\n",
    "* One `rx` gates: The output will be randomly `0` or `1` with equal probability.\n",
    "* Two `rx` gates: The is rotated to the $\\left|1\\right\\rangle$ state, and the measurement outputs `1`.\n",
    "* Three `rx` gates: The output will be random.\n",
    "* Four `rx` gates: The qubit will be back to the initial `0` state.\n",
    "\n",
    "To see this for yourself, you can create these circuits with the code below."
   ]
  },
  {
   "cell_type": "code",
   "execution_count": null,
   "metadata": {},
   "outputs": [],
   "source": [
    "num_rx = 5\n",
    "\n",
    "qc = QuantumCircuit(1,1)\n",
    "for _ in range(num_rx):\n",
    "    qc.rx(2*np.pi/4,0)\n",
    "qc.measure(0,0)\n",
    "\n",
    "qc.draw(output='mpl')"
   ]
  },
  {
   "cell_type": "markdown",
   "metadata": {},
   "source": [
    "And then run them (on a simulator for simplicity). This is done 1024 times, and the number of samples for each possible output (`0` or `1`) are given."
   ]
  },
  {
   "cell_type": "code",
   "execution_count": null,
   "metadata": {},
   "outputs": [],
   "source": [
    "execute(qc,Aer.get_backend('qasm_simulator')).result().get_counts()"
   ]
  },
  {
   "cell_type": "markdown",
   "metadata": {},
   "source": [
    "We will use the variable `nimmed` to represent the number of marbles taken at the beginning of a turn. There are therefore three possible numbers of marbles that could be taken at the end of the turn: `nimmed+1`, `nimmed+2` or `nimmed+3`. The quantum AI then runs three circuits: one with `nimmed+1` `rx` gates, one with `nimmed+2` and one with `nimmed+3`.  It looks at the results of each to see which returns the most `0` outputs. Given the results we saw above, this will be the one such that the total number of marbles taken is a multiple of four (assuming that one of the moves can acheive this).\n",
    "\n",
    "That's basically it! Just run the following cell to play."
   ]
  },
  {
   "cell_type": "code",
   "execution_count": null,
   "metadata": {},
   "outputs": [],
   "source": [
    "marbles = 12\n",
    "nimmed = 0\n",
    "winner = None\n",
    "\n",
    "num = 1\n",
    "\n",
    "thread_id, num = twitter_print('It\\'s '+str(time.time())+', which is the perfect time for a game of Nim!\\n\\n'+\n",
    "                          'Twitter users will be playing against IBM quantum computers.\\n\\n'+\n",
    "                          'The opponent in this game is '+backend.name()+'.\\n\\n'+\n",
    "                          'Keep refreshing twitter.com/QubitChannel to follow the action.',\n",
    "                          num, twitter=twitter)\n",
    "\n",
    "ai_turn = 'The game begins with twelve marbles.\\n\\n'+'O'*(marbles-nimmed)+'\\n\\nPlayers take turns to remove either 1, 2 or 3. Whoever takes the last one wins!'\n",
    "\n",
    "while winner==None:\n",
    "        \n",
    "    # player turn\n",
    "    turn = True\n",
    "    while turn:\n",
    "        nim, author, thread_id, num = twitter_input(ai_turn,thread_id,num,twitter=twitter)\n",
    "        try:\n",
    "            nim = int(nim)\n",
    "            if nim in [1,2,3]:\n",
    "                nimmed += nim\n",
    "                turn = False\n",
    "        except:\n",
    "            print('That isn\\'t a valid move. Try again.')\n",
    "          \n",
    "    # check to see if the player wins\n",
    "    if nimmed==marbles:\n",
    "         winner=='Twitter users'\n",
    "            \n",
    "    # otherwise, its the ai's turn\n",
    "    else:\n",
    "        \n",
    "        # create a circuit corresponding to each move\n",
    "        qc = {}\n",
    "        for nim in [1,2,3]:\n",
    "            qc[nim] = QuantumCircuit(1,1)\n",
    "            for _ in range(nim+nimmed):\n",
    "                qc[nim].rx(2*np.pi/4,0)\n",
    "            qc[nim].measure(0,0)\n",
    "\n",
    "        # run them and see which gives the best results\n",
    "        result = execute(list(qc.values()),backend).result()\n",
    "        zeroes = {}\n",
    "        for nim in qc:\n",
    "            counts = result.get_counts(qc[nim])\n",
    "            if '0' in counts:\n",
    "                zeroes[nim] = counts['0']\n",
    "        nim = max(zeroes, key=zeroes.get)\n",
    "        nimmed += nim\n",
    "        ai_turn = 'The '+backend.name()+' device has responded by taking '+str(nim)+' marble'+'s'*(nim!=1)+'.\\n\\n'+'O'*(marbles-nimmed)\n",
    "\n",
    "        if nimmed==marbles:\n",
    "            winner = backend.name()\n",
    "    \n",
    "thread_id = twitter_print('The last marble was taken by '+winner+'!\\nVictory for '+winner+'!',\n",
    "              num, reply_to=thread_id, twitter=twitter)"
   ]
  },
  {
   "cell_type": "code",
   "execution_count": null,
   "metadata": {},
   "outputs": [],
   "source": []
  }
 ],
 "metadata": {
  "kernelspec": {
   "display_name": "Python 3",
   "language": "python",
   "name": "python3"
  },
  "language_info": {
   "codemirror_mode": {
    "name": "ipython",
    "version": 3
   },
   "file_extension": ".py",
   "mimetype": "text/x-python",
   "name": "python",
   "nbconvert_exporter": "python",
   "pygments_lexer": "ipython3",
   "version": "3.8.5"
  }
 },
 "nbformat": 4,
 "nbformat_minor": 4
}
